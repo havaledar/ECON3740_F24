{
  "nbformat": 4,
  "nbformat_minor": 0,
  "metadata": {
    "colab": {
      "provenance": [],
      "collapsed_sections": [
        "LaESFMSkUAzE"
      ],
      "authorship_tag": "ABX9TyNb+bGOi2iG39Rq69OO4loY",
      "include_colab_link": true
    },
    "kernelspec": {
      "name": "python3",
      "display_name": "Python 3"
    },
    "language_info": {
      "name": "python"
    }
  },
  "cells": [
    {
      "cell_type": "markdown",
      "metadata": {
        "id": "view-in-github",
        "colab_type": "text"
      },
      "source": [
        "<a href=\"https://colab.research.google.com/github/havaledar/ECON3740_F24/blob/main/ECON3740_Lab_10.ipynb\" target=\"_parent\"><img src=\"https://colab.research.google.com/assets/colab-badge.svg\" alt=\"Open In Colab\"/></a>"
      ]
    },
    {
      "cell_type": "markdown",
      "source": [
        "# Pandas and Numpy"
      ],
      "metadata": {
        "id": "EQwTgpQg7HMT"
      }
    },
    {
      "cell_type": "markdown",
      "source": [
        "Several commands in the first labs"
      ],
      "metadata": {
        "id": "GJtRweGV7NX7"
      }
    },
    {
      "cell_type": "markdown",
      "source": [
        "# Logical operations"
      ],
      "metadata": {
        "id": "iNr-I3CJ8hKC"
      }
    },
    {
      "cell_type": "markdown",
      "source": [
        "| Operator | Description                       |\n",
        "|----------|-----------------------------------|\n",
        "| ==       | equality comparison               |\n",
        "| !=       | inequality comparison             |\n",
        "| >        | greater than                      |\n",
        "| <        | less than                         |\n",
        "| >=       | greater than or equal to          |\n",
        "| <=       | less than or equal to             |\n",
        "| &        | AND                       |\n",
        "| \\|        | OR                        |\n",
        "| ~        | logical NOT                       |\n"
      ],
      "metadata": {
        "id": "ENcMdncZ8pjb"
      }
    },
    {
      "cell_type": "markdown",
      "source": [
        "# if and for"
      ],
      "metadata": {
        "id": "MVk-qrYc-uvR"
      }
    },
    {
      "cell_type": "code",
      "source": [
        "x = 7\n",
        "\n",
        "if (x > 10) & (x < 20):\n",
        "    print(\"x is between 10 and 20\")\n",
        "elif (x >= 5) & (x <= 10):\n",
        "    print(\"x is between 5 and 10\")\n",
        "else:\n",
        "    print(\"x is less than 5 or greater than 20\")"
      ],
      "metadata": {
        "colab": {
          "base_uri": "https://localhost:8080/"
        },
        "id": "FCG2FNYI-v8x",
        "outputId": "9d34ac1c-809d-4a75-ff92-6ba4b9ec2043"
      },
      "execution_count": 8,
      "outputs": [
        {
          "output_type": "stream",
          "name": "stdout",
          "text": [
            "x is between 5 and 10\n"
          ]
        }
      ]
    },
    {
      "cell_type": "code",
      "source": [
        "numbers = [1, 2, 3, 4, 5]\n",
        "\n",
        "for num in numbers:\n",
        "    print(\"Current number is:\", num)"
      ],
      "metadata": {
        "colab": {
          "base_uri": "https://localhost:8080/"
        },
        "id": "AZVkx3zGOzpu",
        "outputId": "bef1dba8-77ad-4b9e-8ca6-3586a1203c03"
      },
      "execution_count": 9,
      "outputs": [
        {
          "output_type": "stream",
          "name": "stdout",
          "text": [
            "Current number is: 1\n",
            "Current number is: 2\n",
            "Current number is: 3\n",
            "Current number is: 4\n",
            "Current number is: 5\n"
          ]
        }
      ]
    },
    {
      "cell_type": "markdown",
      "source": [
        "# Statsmodel"
      ],
      "metadata": {
        "id": "Q1rFMZ9h8dpb"
      }
    },
    {
      "cell_type": "markdown",
      "source": [
        "| Function/Method    | Description                                                                                  |\n",
        "|--------------------|----------------------------------------------------------------------------------------------|\n",
        "| `smf.ols()`        | Formula API for OLS regression. Allows categorical encoding using `C()` and polynomial terms (e.g., `y ~ x + I(x**2)`). |\n",
        "| `I()`              | Identity function in formula expressions to include polynomial terms or transformations (e.g., `I(x**2)`). |\n",
        "| `np.log()`         | Logarithmic function to transform variables for logarithmic regression (e.g., `y ~ np.log(x)`). |\n",
        "| `C()`              | Categorical function to indicate categorical variables in a formula (e.g., `C(x)`).          |\n",
        "|`Treatment(reference=?)`| Base C( VARIABLE_NAME, Treatment(reference=VALUE)) |\n",
        "| `*` | Interation between two variables.|\n"
      ],
      "metadata": {
        "id": "ISVxVDcU8gYE"
      }
    },
    {
      "cell_type": "markdown",
      "source": [
        "# matplotlib"
      ],
      "metadata": {
        "id": "STfAfXJK_fCR"
      }
    },
    {
      "cell_type": "markdown",
      "source": [
        "| Command                        | Description                                                                                   |\n",
        "|--------------------------------|-----------------------------------------------------------------------------------------------|\n",
        "| `plt.plot()`                   | Create a line plot.                                                                            |\n",
        "| `plt.scatter()`                | Create a scatter plot to visualize relationships between two variables.                       |\n",
        "| `plt.bar()`                    | Create a bar chart.                                                                            |\n",
        "| `plt.pie()`                    | Create a pie chart to show proportions of categorical data.                                   |\n",
        "| `plt.hist()`                   | Create a histogram to visualize the distribution of data.                                     |\n",
        "| `plt.boxplot()`                | Create a box plot to show data distribution and identify outliers.                            |\n",
        "| `plt.imshow()`                 | Display an image, often used for heatmaps.                                                     |\n",
        "| `plt.title()`                  | Add a title to the plot.                                                                      |\n",
        "| `plt.xlabel()`                 | Add a label to the x-axis.                                                                    |\n",
        "| `plt.ylabel()`                 | Add a label to the y-axis.                                                                    |\n",
        "| `plt.legend()`                 | Add a legend to the plot.              |\n",
        "| `plt.show()`                   | Display the plot.                                                                              |\n",
        "| `plt.tight_layout()`           | Adjust the layout to prevent overlap between subplots.                                         |\n",
        "| Figure Size   | plt.figure(figsize=(width, height))                                                                   |\n",
        "\n",
        "\n",
        "\n",
        "\n",
        "| Customization     | Command                                                                                               |\n",
        "|-------------------|-------------------------------------------------------------------------------------------------------|\n",
        "| Color         | plt.scatter(x, y, color='color')                                                                     |\n",
        "| Marker        | plt.scatter(x, y, marker='*')                                                                         |\n",
        "| Size          | plt.scatter(x, y, s=size)                                                                             |\n",
        "| Transparency  | plt.scatter(x, y, alpha=transparency)                                                                |\n",
        "| Edge Color    | plt.scatter(x, y, edgecolors='color')                                                                |\n",
        "| Edge Width    | plt.scatter(x, y, linewidths=width)                                                                  |"
      ],
      "metadata": {
        "id": "UcxBFeE3_kNW"
      }
    },
    {
      "cell_type": "markdown",
      "source": [
        "# seaborn"
      ],
      "metadata": {
        "id": "rxfmcj6cDQ0Q"
      }
    },
    {
      "cell_type": "markdown",
      "source": [
        "| Customization               | Command                                                                                                 |\n",
        "|-----------------------------|---------------------------------------------------------------------------------------------------------|\n",
        "| **Regression Plot**          | sns.regplot(x='ceoten', y='salary', data=data, ci=None)                                                 |\n",
        "| **Color (White Scatter)**    | sns.regplot(x='ceoten', y='salary', data=data, ci=None, scatter_kws={'facecolors':'white'})             |\n",
        "| **Edge Color**               | sns.regplot(x='ceoten', y='salary', data=data, ci=None, scatter_kws={'facecolors':'white', 'edgecolors':'black'}) |\n",
        "| **Line Color (Red)**         | sns.regplot(x='ceoten', y='salary', data=data, ci=None, scatter_kws={'facecolors':'white', 'edgecolors':'black'}, line_kws={'color':'red'}) |\n",
        "| **Confidence Interval On** | sns.regplot(x='ceoten', y='salary', data=data, scatter_kws={'facecolors':'white', 'edgecolors':'black'}, line_kws={'color':'red'}) |\n",
        "| **Pair Grid**                | g = sns.PairGrid(data); g.map_diag(sns.histplot); g.map_offdiag(sns.scatterplot); g.add_legend()       |"
      ],
      "metadata": {
        "id": "JLxEfH3vDVNz"
      }
    },
    {
      "cell_type": "markdown",
      "source": [
        "# Stargazer"
      ],
      "metadata": {
        "id": "4QuBKbKo7bt0"
      }
    },
    {
      "cell_type": "markdown",
      "source": [
        "1. title: custom title  \n",
        "2. show_header: display or hide model header data  \n",
        "3. show_model_numbers: display or hide model numbers  \n",
        "4. custom_columns: custom model names and model groupings  \n",
        "5. significance_levels: change statistical significance thresholds  \n",
        "6. significant_digits: change number of significant digits  \n",
        "7. show_confidence_intervals: display confidence intervals instead of variance  \n",
        "8. dependent_variable_name: rename dependent variable  \n",
        "9. rename_covariates: rename covariates  \n",
        "10. covariate_order: reorder covariates  \n",
        "11. reset_covariate_order: reset covariate order to original ordering  \n",
        "12. show_degrees_of_freedom: display or hide degrees of freedom  \n",
        "13. custom_note_label: label notes section at bottom of table  \n",
        "14. add_custom_notes: add custom notes to section at bottom of the table  \n",
        "15. add_line: add a custom line to the table  \n",
        "16. append_notes: display or hide statistical significance thresholds  \n"
      ],
      "metadata": {
        "id": "ESmeBr3d7doJ"
      }
    }
  ]
}